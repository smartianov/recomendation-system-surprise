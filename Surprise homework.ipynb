{
 "cells": [
  {
   "cell_type": "markdown",
   "metadata": {},
   "source": [
    "# Surprise homework\n",
    "Because all labels in this document are in English and this task is about predictions I have predicted that it should be done in English."
   ]
  },
  {
   "cell_type": "code",
   "execution_count": 1,
   "metadata": {},
   "outputs": [],
   "source": [
    "from collections import defaultdict\n",
    "import pandas as pd\n",
    "from surprise import Dataset\n",
    "from surprise import NormalPredictor\n",
    "from surprise import KNNWithMeans\n",
    "from surprise import SVD\n",
    "from surprise.model_selection import cross_validate\n",
    "from surprise.model_selection import KFold"
   ]
  },
  {
   "cell_type": "markdown",
   "metadata": {},
   "source": [
    "### Functions\n",
    "\n",
    "There two functions exectly from surprise FAQ ([top-N recommendation](https://surprise.readthedocs.io/en/stable/FAQ.html#how-to-get-the-top-n-recommendations-for-each-user) and [precision@k and recall@k](https://surprise.readthedocs.io/en/stable/FAQ.html#how-to-get-the-top-n-recommendations-for-each-user)). It looks like copypaste, but in fact it is the copypaste with subsequent *awareness* and *understanding the code*.It makes no sense to change the code, because the developers have made it rather scalable and flexible. Also I have written one own function to serialize the resulting list of movies into the required text format."
   ]
  },
  {
   "cell_type": "code",
   "execution_count": 2,
   "metadata": {},
   "outputs": [],
   "source": [
    "def get_top_n(predictions, n=10):\n",
    "    \"\"\"Return the top-N recommendation for each user from a set of predictions.\n",
    "\n",
    "    Args:\n",
    "        predictions(list of Prediction objects): The list of predictions, as\n",
    "            returned by the test method of an algorithm.\n",
    "        n(int): The number of recommendation to output for each user. Default\n",
    "            is 10.\n",
    "\n",
    "    Returns:\n",
    "    A dict where keys are user (raw) ids and values are lists of tuples:\n",
    "        [(raw item id, rating estimation), ...] of size n.\n",
    "    \"\"\"\n",
    "\n",
    "    # First map the predictions to each user.\n",
    "    top_n = defaultdict(list)\n",
    "    for uid, iid, true_r, est, _ in predictions:\n",
    "        top_n[uid].append((iid, est))\n",
    "\n",
    "    # Then sort the predictions for each user and retrieve the k highest ones.\n",
    "    for uid, user_ratings in top_n.items():\n",
    "        user_ratings.sort(key=lambda x: x[1], reverse=True)\n",
    "        top_n[uid] = user_ratings[:n]\n",
    "\n",
    "    return top_n\n",
    "\n",
    "def precision_recall_at_k(predictions, k=10, threshold=3.5):\n",
    "    \"\"\"Return precision and recall at k metrics for each user\"\"\"\n",
    "\n",
    "    # First map the predictions to each user.\n",
    "    user_est_true = defaultdict(list)\n",
    "    for uid, _, true_r, est, _ in predictions:\n",
    "        user_est_true[uid].append((est, true_r))\n",
    "\n",
    "    precisions = dict()\n",
    "    recalls = dict()\n",
    "    for uid, user_ratings in user_est_true.items():\n",
    "\n",
    "        # Sort user ratings by estimated value\n",
    "        user_ratings.sort(key=lambda x: x[0], reverse=True)\n",
    "\n",
    "        # Number of relevant items\n",
    "        n_rel = sum((true_r >= threshold) for (_, true_r) in user_ratings)\n",
    "\n",
    "        # Number of recommended items in top k\n",
    "        n_rec_k = sum((est >= threshold) for (est, _) in user_ratings[:k])\n",
    "\n",
    "        # Number of relevant and recommended items in top k\n",
    "        n_rel_and_rec_k = sum(((true_r >= threshold) and (est >= threshold))\n",
    "                              for (est, true_r) in user_ratings[:k])\n",
    "\n",
    "        # Precision@K: Proportion of recommended items that are relevant\n",
    "        # When n_rec_k is 0, Precision is undefined. We here set it to 0.\n",
    "\n",
    "        precisions[uid] = n_rel_and_rec_k / n_rec_k if n_rec_k != 0 else 0\n",
    "\n",
    "        # Recall@K: Proportion of relevant items that are recommended\n",
    "        # When n_rel is 0, Recall is undefined. We here set it to 0.\n",
    "\n",
    "        recalls[uid] = n_rel_and_rec_k / n_rel if n_rel != 0 else 0\n",
    "\n",
    "    return precisions, recalls\n",
    "\n",
    "def serialize(uid, movies):\n",
    "    \"\"\"Return serialized recommendation data for the user\"\"\"\n",
    "    \n",
    "    result = f'User {uid}\\n'\n",
    "\n",
    "    id_len = 0\n",
    "    content_len = 0\n",
    "\n",
    "    for m in movies:\n",
    "        id_len = max(id_len, len(m['id']))\n",
    "        content_len = max(content_len, len(m['title'] + m['release']) + 8)\n",
    "\n",
    "    for m in movies:\n",
    "        result += (f\"   {m['id'].ljust(id_len)} \" +\n",
    "            f\"('{m['title']}', '{m['release']}')\".ljust(content_len) +\n",
    "            f\" {m['rating']}\\n\")\n",
    "    \n",
    "    return result"
   ]
  },
  {
   "cell_type": "markdown",
   "metadata": {},
   "source": [
    "### Load data"
   ]
  },
  {
   "cell_type": "code",
   "execution_count": 3,
   "metadata": {
    "tags": []
   },
   "outputs": [],
   "source": [
    "data = Dataset.load_builtin('ml-100k')\n",
    "\n",
    "# Number of future folds for the data set\n",
    "N_FOLDS = 5\n",
    "\n",
    "# My variant (I hope)\n",
    "USER_ID = 22\n",
    "\n",
    "# DataFrame for all items with columns 'title' for title of movie and 'release' for release date of this movie\n",
    "items_df = pd.read_csv(\n",
    "    'u.item',\n",
    "    sep='|',\n",
    "    encoding='ISO-8859-1',\n",
    "    header=None,\n",
    "    usecols=[1, 2],\n",
    "    names=['title', 'release']\n",
    ")"
   ]
  },
  {
   "cell_type": "markdown",
   "metadata": {},
   "source": [
    "### Define algorithms"
   ]
  },
  {
   "cell_type": "code",
   "execution_count": 4,
   "metadata": {},
   "outputs": [],
   "source": [
    "# Dictionary of the algorithms. Key is a title of the algorithm and the value is surprise object of it\n",
    "algs = {}\n",
    "\n",
    "# To predict a random rating on the distribution of all ratings in a set we have to calculate normal distribution\n",
    "algs['Predicting a random rating based on the distribution of all ratings in a set'] = NormalPredictor()\n",
    "\n",
    "# Returns kNN algorithm with k = 30 and required metric \n",
    "get_kNN = lambda metric: KNNWithMeans(k=30, sim_options={'name': metric})\n",
    "\n",
    "algs['User-based collaborative filtering, kNN method, k = 30, cosine metric'] = get_kNN('cosine')\n",
    "\n",
    "algs['User-based collaborative filtering, kNN method, k = 30, Mean Squared Difference metric'] = get_kNN('msd')\n",
    "\n",
    "algs['User-based collaborative filtering, kNN method, k = 30, Pearson correlation metric'] = get_kNN('pearson')\n",
    "\n",
    "algs['SVD algorithm'] = SVD()"
   ]
  },
  {
   "cell_type": "markdown",
   "metadata": {},
   "source": [
    "### Select algorithm"
   ]
  },
  {
   "cell_type": "code",
   "execution_count": 5,
   "metadata": {},
   "outputs": [
    {
     "output_type": "stream",
     "name": "stdout",
     "text": [
      "\u001b[1;36mPredicting a random rating based on the distribution of all ratings in a set:\u001b[0m\n",
      "Evaluating RMSE of algorithm NormalPredictor on 5 split(s).\n",
      "\n",
      "                  Fold 1  Fold 2  Fold 3  Fold 4  Fold 5  Mean    Std     \n",
      "RMSE (testset)    1.5095  1.5337  1.5176  1.5214  1.5191  1.5203  0.0078  \n",
      "Fit time          0.22    0.24    0.23    0.20    0.68    0.31    0.18    \n",
      "Test time         0.19    0.17    0.29    0.23    0.60    0.30    0.16    \n",
      "\n",
      "\u001b[1;36mUser-based collaborative filtering, kNN method, k = 30, cosine metric:\u001b[0m\n",
      "Computing the cosine similarity matrix...\n",
      "Done computing similarity matrix.\n",
      "Computing the cosine similarity matrix...\n",
      "Done computing similarity matrix.\n",
      "Computing the cosine similarity matrix...\n",
      "Done computing similarity matrix.\n",
      "Computing the cosine similarity matrix...\n",
      "Done computing similarity matrix.\n",
      "Computing the cosine similarity matrix...\n",
      "Done computing similarity matrix.\n",
      "Evaluating RMSE of algorithm KNNWithMeans on 5 split(s).\n",
      "\n",
      "                  Fold 1  Fold 2  Fold 3  Fold 4  Fold 5  Mean    Std     \n",
      "RMSE (testset)    0.9667  0.9584  0.9517  0.9690  0.9489  0.9590  0.0079  \n",
      "Fit time          2.81    1.32    1.38    1.56    1.81    1.77    0.55    \n",
      "Test time         5.73    4.63    4.86    5.75    5.35    5.27    0.45    \n",
      "\n",
      "\u001b[1;36mUser-based collaborative filtering, kNN method, k = 30, Mean Squared Difference metric:\u001b[0m\n",
      "Computing the msd similarity matrix...\n",
      "Done computing similarity matrix.\n",
      "Computing the msd similarity matrix...\n",
      "Done computing similarity matrix.\n",
      "Computing the msd similarity matrix...\n",
      "Done computing similarity matrix.\n",
      "Computing the msd similarity matrix...\n",
      "Done computing similarity matrix.\n",
      "Computing the msd similarity matrix...\n",
      "Done computing similarity matrix.\n",
      "Evaluating RMSE of algorithm KNNWithMeans on 5 split(s).\n",
      "\n",
      "                  Fold 1  Fold 2  Fold 3  Fold 4  Fold 5  Mean    Std     \n",
      "RMSE (testset)    0.9450  0.9483  0.9579  0.9546  0.9549  0.9521  0.0047  \n",
      "Fit time          0.70    0.68    0.75    0.62    0.76    0.70    0.05    \n",
      "Test time         5.11    5.89    6.89    5.46    7.21    6.11    0.81    \n",
      "\n",
      "\u001b[1;36mUser-based collaborative filtering, kNN method, k = 30, Pearson correlation metric:\u001b[0m\n",
      "Computing the pearson similarity matrix...\n",
      "Done computing similarity matrix.\n",
      "Computing the pearson similarity matrix...\n",
      "Done computing similarity matrix.\n",
      "Computing the pearson similarity matrix...\n",
      "Done computing similarity matrix.\n",
      "Computing the pearson similarity matrix...\n",
      "Done computing similarity matrix.\n",
      "Computing the pearson similarity matrix...\n",
      "Done computing similarity matrix.\n",
      "Evaluating RMSE of algorithm KNNWithMeans on 5 split(s).\n",
      "\n",
      "                  Fold 1  Fold 2  Fold 3  Fold 4  Fold 5  Mean    Std     \n",
      "RMSE (testset)    0.9548  0.9502  0.9506  0.9563  0.9445  0.9513  0.0041  \n",
      "Fit time          2.47    3.23    2.46    2.49    2.03    2.54    0.39    \n",
      "Test time         6.54    8.18    7.04    4.66    16.26   8.53    4.03    \n",
      "\n",
      "\u001b[1;36mSVD algorithm:\u001b[0m\n",
      "Evaluating RMSE of algorithm SVD on 5 split(s).\n",
      "\n",
      "                  Fold 1  Fold 2  Fold 3  Fold 4  Fold 5  Mean    Std     \n",
      "RMSE (testset)    0.9381  0.9339  0.9311  0.9419  0.9391  0.9368  0.0039  \n",
      "Fit time          8.16    6.18    6.66    9.61    7.67    7.65    1.20    \n",
      "Test time         0.31    0.22    0.30    0.20    0.33    0.27    0.05    \n",
      "\n",
      "In my humble opinion the best algorithm is \u001b[1;32mSVD algorithm\u001b[0m with RMSE equal to 0.9368196289666612.\n"
     ]
    }
   ],
   "source": [
    "# This dictionary is similar to the dictionary of algorithms. Key is a title of the algorithm and the value is its root mean square error\n",
    "RMSEs = {}\n",
    "\n",
    "# Highlighting text in color and bold (or just color if you are a fan of Windows console) is set up just for fun\n",
    "green = lambda str: f'\\x1b[1;32m{str}\\x1b[0m'\n",
    "cyan = lambda str: f'\\x1b[1;36m{str}\\x1b[0m'\n",
    "\n",
    "# Commit the cross validations with visualization (verbose option) and fill the RMSEs dictionary\n",
    "for title, alg in algs.items():\n",
    "    print(cyan(f'{title}:'))\n",
    "    cv_result = cross_validate(alg, data, measures=['rmse'], cv=N_FOLDS, verbose=True)\n",
    "    RMSEs[title] = cv_result['test_rmse'].mean()\n",
    "    print()\n",
    "\n",
    "best_alg = min(RMSEs, key=RMSEs.get)\n",
    "print(f'In my humble opinion the best algorithm is {green(best_alg)} '\n",
    "    f'with RMSE equal to {RMSEs[best_alg]}.')\n",
    "best_alg = algs[best_alg]"
   ]
  },
  {
   "source": [
    "### Calculate precision@k and recall@k\n",
    "Here we have two ways. The first is to calculate these metrics for all items. And the second is to split the dataset into several parts, calculate the metrics for each of them, and then calculate the average. I have implemented a split option exectly like I had done when have been calculating the RMSE. But if you wanted to go the first way, you would have to write:\n",
    "\n",
    "    from surprise.model_selection import train_test_split\n",
    "    trainset, testset = train_test_split(data, 1 / N_FOLDS)\n",
    "\n",
    "And then just copy, with slight obvious changes, the body of the loop below."
   ],
   "cell_type": "markdown",
   "metadata": {}
  },
  {
   "cell_type": "code",
   "execution_count": 6,
   "metadata": {
    "tags": []
   },
   "outputs": [
    {
     "output_type": "stream",
     "name": "stdout",
     "text": [
      "For this algorithm:\n\u001b[1;32mprecision@k\u001b[0m is 0.7237053537323097\n\u001b[1;32mrecall@k   \u001b[0m is 0.40599616522041015\n"
     ]
    }
   ],
   "source": [
    "# Dictionary mean \n",
    "dict_mean = lambda d: sum(x for x in d.values()) / len(d)\n",
    "\n",
    "# Sums of presision and recall. They are needed to solve averages.\n",
    "precisions_sum = 0\n",
    "recalls_sum = 0\n",
    "\n",
    "# Cross-validation iterator\n",
    "kf = KFold(n_splits=N_FOLDS)\n",
    "\n",
    "for trainset, testset in kf.split(data):\n",
    "    predictions = best_alg.fit(trainset).test(testset)\n",
    "    precisions, recalls = precision_recall_at_k(predictions, k=5, threshold=3.52)\n",
    "    precisions_sum += dict_mean(precisions)\n",
    "    recalls_sum += dict_mean(recalls)\n",
    "\n",
    "print('For this algorithm:')\n",
    "print(f'{green(\"precision@k\")} is {precisions_sum / N_FOLDS}')\n",
    "print(f'{green(\"recall@k   \")} is {recalls_sum / N_FOLDS}')"
   ]
  },
  {
   "cell_type": "markdown",
   "metadata": {},
   "source": [
    "### Predict"
   ]
  },
  {
   "cell_type": "code",
   "execution_count": 7,
   "metadata": {},
   "outputs": [],
   "source": [
    "# We will use full train set for the best test\n",
    "trainset = data.build_full_trainset()\n",
    "\n",
    "# All these data are not in the trainset\n",
    "testset = trainset.build_anti_testset()\n",
    "\n",
    "# Training and predicting\n",
    "predictions = best_alg.fit(trainset).test(testset)\n",
    "\n",
    "# There are NO movies in this top, which user could see, unless they would not be in testset\n",
    "top_for_user = get_top_n(predictions, 5)[str(USER_ID)]\n",
    "\n",
    "recomendations = []\n",
    "for id, rating in top_for_user:\n",
    "    movie = dict(items_df.iloc[int(id)])\n",
    "    # As I understood from the example, the resulting ID starts with one\n",
    "    movie['id'] = str(int(id) + 1)\n",
    "    movie['rating'] = str(round(rating, 3))\n",
    "    recomendations.append(movie)"
   ]
  },
  {
   "source": [
    "### Print and save to file"
   ],
   "cell_type": "markdown",
   "metadata": {}
  },
  {
   "cell_type": "code",
   "execution_count": 8,
   "metadata": {},
   "outputs": [
    {
     "output_type": "stream",
     "name": "stdout",
     "text": [
      "User 22\n   101 ('Heavy Metal (1981)', '08-Mar-1981')                          4.885\n   184 ('Army of Darkness (1993)', '01-Jan-1993')                     4.781\n   13  ('Mighty Aphrodite (1995)', '30-Oct-1995')                     4.766\n   314 ('3 Ninjas: High Noon At Mega Mountain (1998)', '01-Jan-1997') 4.749\n   170 ('Cinema Paradiso (1988)', '01-Jan-1988')                      4.715\n\n"
     ]
    }
   ],
   "source": [
    "# Serialized recomendations\n",
    "result = serialize(USER_ID, recomendations)\n",
    "\n",
    "print(result)\n",
    "\n",
    "with open('result.txt', 'w') as f:\n",
    "    f.write(result)"
   ]
  }
 ],
 "metadata": {
  "kernelspec": {
   "display_name": "Python 3",
   "language": "python",
   "name": "python3"
  },
  "language_info": {
   "codemirror_mode": {
    "name": "ipython",
    "version": 3
   },
   "file_extension": ".py",
   "mimetype": "text/x-python",
   "name": "python",
   "nbconvert_exporter": "python",
   "pygments_lexer": "ipython3",
   "version": "3.8.5-final"
  }
 },
 "nbformat": 4,
 "nbformat_minor": 2
}